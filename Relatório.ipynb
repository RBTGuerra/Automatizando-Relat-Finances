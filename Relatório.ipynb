{
 "cells": [
  {
   "cell_type": "markdown",
   "metadata": {},
   "source": [
    "## 1 *Importando modulos e Bibliotecas*"
   ]
  },
  {
   "cell_type": "code",
   "execution_count": 1,
   "metadata": {},
   "outputs": [],
   "source": [
    "import pandas as pd\n",
    "import datetime \n",
    "import yfinance as yf\n",
    "from matplotlib import pyplot as plt\n",
    "import matplotlib.ticker as mtick \n",
    "import mplcyberpunk\n",
    "from bcb import currency\n",
    "from bcb import sgs\n",
    "import smtplib\n",
    "from email.message import EmailMessage"
   ]
  },
  {
   "cell_type": "markdown",
   "metadata": {},
   "source": [
    "## 2 *Importando Dados*"
   ]
  },
  {
   "cell_type": "code",
   "execution_count": 2,
   "metadata": {},
   "outputs": [
    {
     "name": "stdout",
     "output_type": "stream",
     "text": [
      "[*********************100%%**********************]  2 of 2 completed\n"
     ]
    },
    {
     "data": {
      "text/html": [
       "<div>\n",
       "<style scoped>\n",
       "    .dataframe tbody tr th:only-of-type {\n",
       "        vertical-align: middle;\n",
       "    }\n",
       "\n",
       "    .dataframe tbody tr th {\n",
       "        vertical-align: top;\n",
       "    }\n",
       "\n",
       "    .dataframe thead tr th {\n",
       "        text-align: left;\n",
       "    }\n",
       "\n",
       "    .dataframe thead tr:last-of-type th {\n",
       "        text-align: right;\n",
       "    }\n",
       "</style>\n",
       "<table border=\"1\" class=\"dataframe\">\n",
       "  <thead>\n",
       "    <tr>\n",
       "      <th></th>\n",
       "      <th colspan=\"2\" halign=\"left\">Adj Close</th>\n",
       "      <th colspan=\"2\" halign=\"left\">Close</th>\n",
       "      <th colspan=\"2\" halign=\"left\">High</th>\n",
       "      <th colspan=\"2\" halign=\"left\">Low</th>\n",
       "      <th colspan=\"2\" halign=\"left\">Open</th>\n",
       "      <th colspan=\"2\" halign=\"left\">Volume</th>\n",
       "    </tr>\n",
       "    <tr>\n",
       "      <th></th>\n",
       "      <th>BRL=X</th>\n",
       "      <th>^BVSP</th>\n",
       "      <th>BRL=X</th>\n",
       "      <th>^BVSP</th>\n",
       "      <th>BRL=X</th>\n",
       "      <th>^BVSP</th>\n",
       "      <th>BRL=X</th>\n",
       "      <th>^BVSP</th>\n",
       "      <th>BRL=X</th>\n",
       "      <th>^BVSP</th>\n",
       "      <th>BRL=X</th>\n",
       "      <th>^BVSP</th>\n",
       "    </tr>\n",
       "    <tr>\n",
       "      <th>Date</th>\n",
       "      <th></th>\n",
       "      <th></th>\n",
       "      <th></th>\n",
       "      <th></th>\n",
       "      <th></th>\n",
       "      <th></th>\n",
       "      <th></th>\n",
       "      <th></th>\n",
       "      <th></th>\n",
       "      <th></th>\n",
       "      <th></th>\n",
       "      <th></th>\n",
       "    </tr>\n",
       "  </thead>\n",
       "  <tbody>\n",
       "    <tr>\n",
       "      <th>2022-09-21</th>\n",
       "      <td>5.1415</td>\n",
       "      <td>111936.000000</td>\n",
       "      <td>5.1415</td>\n",
       "      <td>111936.000000</td>\n",
       "      <td>5.1840</td>\n",
       "      <td>113294.00000</td>\n",
       "      <td>5.120462</td>\n",
       "      <td>111380.000000</td>\n",
       "      <td>5.1415</td>\n",
       "      <td>112517.00000</td>\n",
       "      <td>0.0</td>\n",
       "      <td>14726800.0</td>\n",
       "    </tr>\n",
       "    <tr>\n",
       "      <th>2022-09-22</th>\n",
       "      <td>5.1704</td>\n",
       "      <td>114070.000000</td>\n",
       "      <td>5.1704</td>\n",
       "      <td>114070.000000</td>\n",
       "      <td>5.1830</td>\n",
       "      <td>114392.00000</td>\n",
       "      <td>5.118380</td>\n",
       "      <td>111819.000000</td>\n",
       "      <td>5.1704</td>\n",
       "      <td>111942.00000</td>\n",
       "      <td>0.0</td>\n",
       "      <td>15684400.0</td>\n",
       "    </tr>\n",
       "    <tr>\n",
       "      <th>2022-09-23</th>\n",
       "      <td>5.1155</td>\n",
       "      <td>111716.000000</td>\n",
       "      <td>5.1155</td>\n",
       "      <td>111716.000000</td>\n",
       "      <td>5.2388</td>\n",
       "      <td>112457.00000</td>\n",
       "      <td>5.112680</td>\n",
       "      <td>110732.000000</td>\n",
       "      <td>5.1155</td>\n",
       "      <td>112258.00000</td>\n",
       "      <td>0.0</td>\n",
       "      <td>13542300.0</td>\n",
       "    </tr>\n",
       "    <tr>\n",
       "      <th>2022-09-26</th>\n",
       "      <td>5.2588</td>\n",
       "      <td>109114.000000</td>\n",
       "      <td>5.2588</td>\n",
       "      <td>109114.000000</td>\n",
       "      <td>5.3889</td>\n",
       "      <td>111713.00000</td>\n",
       "      <td>5.255300</td>\n",
       "      <td>109022.000000</td>\n",
       "      <td>5.2588</td>\n",
       "      <td>111713.00000</td>\n",
       "      <td>0.0</td>\n",
       "      <td>13127000.0</td>\n",
       "    </tr>\n",
       "    <tr>\n",
       "      <th>2022-09-27</th>\n",
       "      <td>5.3894</td>\n",
       "      <td>108376.000000</td>\n",
       "      <td>5.3894</td>\n",
       "      <td>108376.000000</td>\n",
       "      <td>5.3939</td>\n",
       "      <td>110161.00000</td>\n",
       "      <td>5.295532</td>\n",
       "      <td>108120.000000</td>\n",
       "      <td>5.3894</td>\n",
       "      <td>109122.00000</td>\n",
       "      <td>0.0</td>\n",
       "      <td>14517500.0</td>\n",
       "    </tr>\n",
       "    <tr>\n",
       "      <th>...</th>\n",
       "      <td>...</td>\n",
       "      <td>...</td>\n",
       "      <td>...</td>\n",
       "      <td>...</td>\n",
       "      <td>...</td>\n",
       "      <td>...</td>\n",
       "      <td>...</td>\n",
       "      <td>...</td>\n",
       "      <td>...</td>\n",
       "      <td>...</td>\n",
       "      <td>...</td>\n",
       "      <td>...</td>\n",
       "    </tr>\n",
       "    <tr>\n",
       "      <th>2023-09-15</th>\n",
       "      <td>4.8682</td>\n",
       "      <td>118758.000000</td>\n",
       "      <td>4.8682</td>\n",
       "      <td>118758.000000</td>\n",
       "      <td>4.8754</td>\n",
       "      <td>119780.00000</td>\n",
       "      <td>4.857700</td>\n",
       "      <td>118666.000000</td>\n",
       "      <td>4.8682</td>\n",
       "      <td>119393.00000</td>\n",
       "      <td>0.0</td>\n",
       "      <td>16107600.0</td>\n",
       "    </tr>\n",
       "    <tr>\n",
       "      <th>2023-09-18</th>\n",
       "      <td>4.8670</td>\n",
       "      <td>118288.000000</td>\n",
       "      <td>4.8670</td>\n",
       "      <td>118288.000000</td>\n",
       "      <td>4.8726</td>\n",
       "      <td>119486.00000</td>\n",
       "      <td>4.842462</td>\n",
       "      <td>118123.000000</td>\n",
       "      <td>4.8670</td>\n",
       "      <td>118759.00000</td>\n",
       "      <td>0.0</td>\n",
       "      <td>11273100.0</td>\n",
       "    </tr>\n",
       "    <tr>\n",
       "      <th>2023-09-19</th>\n",
       "      <td>4.8537</td>\n",
       "      <td>117846.000000</td>\n",
       "      <td>4.8537</td>\n",
       "      <td>117846.000000</td>\n",
       "      <td>4.8625</td>\n",
       "      <td>118458.00000</td>\n",
       "      <td>4.835390</td>\n",
       "      <td>117628.000000</td>\n",
       "      <td>4.8537</td>\n",
       "      <td>118293.00000</td>\n",
       "      <td>0.0</td>\n",
       "      <td>11453800.0</td>\n",
       "    </tr>\n",
       "    <tr>\n",
       "      <th>2023-09-20</th>\n",
       "      <td>4.8658</td>\n",
       "      <td>118695.000000</td>\n",
       "      <td>4.8658</td>\n",
       "      <td>118695.000000</td>\n",
       "      <td>4.8679</td>\n",
       "      <td>119616.00000</td>\n",
       "      <td>4.838740</td>\n",
       "      <td>117847.000000</td>\n",
       "      <td>4.8658</td>\n",
       "      <td>117864.00000</td>\n",
       "      <td>0.0</td>\n",
       "      <td>9238800.0</td>\n",
       "    </tr>\n",
       "    <tr>\n",
       "      <th>2023-09-21</th>\n",
       "      <td>NaN</td>\n",
       "      <td>116805.867188</td>\n",
       "      <td>NaN</td>\n",
       "      <td>116805.867188</td>\n",
       "      <td>NaN</td>\n",
       "      <td>118695.09375</td>\n",
       "      <td>NaN</td>\n",
       "      <td>116805.867188</td>\n",
       "      <td>NaN</td>\n",
       "      <td>118695.09375</td>\n",
       "      <td>NaN</td>\n",
       "      <td>0.0</td>\n",
       "    </tr>\n",
       "  </tbody>\n",
       "</table>\n",
       "<p>262 rows × 12 columns</p>\n",
       "</div>"
      ],
      "text/plain": [
       "           Adj Close                  Close                   High  \\\n",
       "               BRL=X          ^BVSP   BRL=X          ^BVSP   BRL=X   \n",
       "Date                                                                 \n",
       "2022-09-21    5.1415  111936.000000  5.1415  111936.000000  5.1840   \n",
       "2022-09-22    5.1704  114070.000000  5.1704  114070.000000  5.1830   \n",
       "2022-09-23    5.1155  111716.000000  5.1155  111716.000000  5.2388   \n",
       "2022-09-26    5.2588  109114.000000  5.2588  109114.000000  5.3889   \n",
       "2022-09-27    5.3894  108376.000000  5.3894  108376.000000  5.3939   \n",
       "...              ...            ...     ...            ...     ...   \n",
       "2023-09-15    4.8682  118758.000000  4.8682  118758.000000  4.8754   \n",
       "2023-09-18    4.8670  118288.000000  4.8670  118288.000000  4.8726   \n",
       "2023-09-19    4.8537  117846.000000  4.8537  117846.000000  4.8625   \n",
       "2023-09-20    4.8658  118695.000000  4.8658  118695.000000  4.8679   \n",
       "2023-09-21       NaN  116805.867188     NaN  116805.867188     NaN   \n",
       "\n",
       "                               Low                   Open                \\\n",
       "                   ^BVSP     BRL=X          ^BVSP   BRL=X         ^BVSP   \n",
       "Date                                                                      \n",
       "2022-09-21  113294.00000  5.120462  111380.000000  5.1415  112517.00000   \n",
       "2022-09-22  114392.00000  5.118380  111819.000000  5.1704  111942.00000   \n",
       "2022-09-23  112457.00000  5.112680  110732.000000  5.1155  112258.00000   \n",
       "2022-09-26  111713.00000  5.255300  109022.000000  5.2588  111713.00000   \n",
       "2022-09-27  110161.00000  5.295532  108120.000000  5.3894  109122.00000   \n",
       "...                  ...       ...            ...     ...           ...   \n",
       "2023-09-15  119780.00000  4.857700  118666.000000  4.8682  119393.00000   \n",
       "2023-09-18  119486.00000  4.842462  118123.000000  4.8670  118759.00000   \n",
       "2023-09-19  118458.00000  4.835390  117628.000000  4.8537  118293.00000   \n",
       "2023-09-20  119616.00000  4.838740  117847.000000  4.8658  117864.00000   \n",
       "2023-09-21  118695.09375       NaN  116805.867188     NaN  118695.09375   \n",
       "\n",
       "           Volume              \n",
       "            BRL=X       ^BVSP  \n",
       "Date                           \n",
       "2022-09-21    0.0  14726800.0  \n",
       "2022-09-22    0.0  15684400.0  \n",
       "2022-09-23    0.0  13542300.0  \n",
       "2022-09-26    0.0  13127000.0  \n",
       "2022-09-27    0.0  14517500.0  \n",
       "...           ...         ...  \n",
       "2023-09-15    0.0  16107600.0  \n",
       "2023-09-18    0.0  11273100.0  \n",
       "2023-09-19    0.0  11453800.0  \n",
       "2023-09-20    0.0   9238800.0  \n",
       "2023-09-21    NaN         0.0  \n",
       "\n",
       "[262 rows x 12 columns]"
      ]
     },
     "metadata": {},
     "output_type": "display_data"
    }
   ],
   "source": [
    "# Importando os dados da API yahoo finance\n",
    "ativos = [\"^BVSP\", \"BRL=X\"]\n",
    "\n",
    "hoje = datetime.datetime.now()\n",
    "um_ano_atras = hoje - datetime.timedelta(days = 365)\n",
    "\n",
    "dados_mercado = yf.download(ativos, um_ano_atras, hoje)\n",
    "\n",
    "display(dados_mercado)\n"
   ]
  },
  {
   "cell_type": "code",
   "execution_count": 3,
   "metadata": {},
   "outputs": [
    {
     "data": {
      "text/html": [
       "<div>\n",
       "<style scoped>\n",
       "    .dataframe tbody tr th:only-of-type {\n",
       "        vertical-align: middle;\n",
       "    }\n",
       "\n",
       "    .dataframe tbody tr th {\n",
       "        vertical-align: top;\n",
       "    }\n",
       "\n",
       "    .dataframe thead th {\n",
       "        text-align: right;\n",
       "    }\n",
       "</style>\n",
       "<table border=\"1\" class=\"dataframe\">\n",
       "  <thead>\n",
       "    <tr style=\"text-align: right;\">\n",
       "      <th></th>\n",
       "      <th>selic</th>\n",
       "    </tr>\n",
       "    <tr>\n",
       "      <th>Date</th>\n",
       "      <th></th>\n",
       "    </tr>\n",
       "  </thead>\n",
       "  <tbody>\n",
       "    <tr>\n",
       "      <th>2021-01-01</th>\n",
       "      <td>2.00</td>\n",
       "    </tr>\n",
       "    <tr>\n",
       "      <th>2021-01-02</th>\n",
       "      <td>2.00</td>\n",
       "    </tr>\n",
       "    <tr>\n",
       "      <th>2021-01-03</th>\n",
       "      <td>2.00</td>\n",
       "    </tr>\n",
       "    <tr>\n",
       "      <th>2021-01-04</th>\n",
       "      <td>2.00</td>\n",
       "    </tr>\n",
       "    <tr>\n",
       "      <th>2021-01-05</th>\n",
       "      <td>2.00</td>\n",
       "    </tr>\n",
       "    <tr>\n",
       "      <th>...</th>\n",
       "      <td>...</td>\n",
       "    </tr>\n",
       "    <tr>\n",
       "      <th>2023-09-17</th>\n",
       "      <td>13.25</td>\n",
       "    </tr>\n",
       "    <tr>\n",
       "      <th>2023-09-18</th>\n",
       "      <td>13.25</td>\n",
       "    </tr>\n",
       "    <tr>\n",
       "      <th>2023-09-19</th>\n",
       "      <td>13.25</td>\n",
       "    </tr>\n",
       "    <tr>\n",
       "      <th>2023-09-20</th>\n",
       "      <td>13.25</td>\n",
       "    </tr>\n",
       "    <tr>\n",
       "      <th>2023-09-21</th>\n",
       "      <td>12.75</td>\n",
       "    </tr>\n",
       "  </tbody>\n",
       "</table>\n",
       "<p>994 rows × 1 columns</p>\n",
       "</div>"
      ],
      "text/plain": [
       "            selic\n",
       "Date             \n",
       "2021-01-01   2.00\n",
       "2021-01-02   2.00\n",
       "2021-01-03   2.00\n",
       "2021-01-04   2.00\n",
       "2021-01-05   2.00\n",
       "...           ...\n",
       "2023-09-17  13.25\n",
       "2023-09-18  13.25\n",
       "2023-09-19  13.25\n",
       "2023-09-20  13.25\n",
       "2023-09-21  12.75\n",
       "\n",
       "[994 rows x 1 columns]"
      ]
     },
     "execution_count": 3,
     "metadata": {},
     "output_type": "execute_result"
    }
   ],
   "source": [
    "# Importando os Dados da API do BC\n",
    "selic = sgs.get({'selic':432}, start = '2021-01-01')\n",
    "\n",
    "selic"
   ]
  },
  {
   "cell_type": "markdown",
   "metadata": {},
   "source": [
    "## 3 *Manipulando os Dados - Seleção e exclusão* "
   ]
  },
  {
   "cell_type": "code",
   "execution_count": 4,
   "metadata": {},
   "outputs": [
    {
     "data": {
      "text/html": [
       "<div>\n",
       "<style scoped>\n",
       "    .dataframe tbody tr th:only-of-type {\n",
       "        vertical-align: middle;\n",
       "    }\n",
       "\n",
       "    .dataframe tbody tr th {\n",
       "        vertical-align: top;\n",
       "    }\n",
       "\n",
       "    .dataframe thead th {\n",
       "        text-align: right;\n",
       "    }\n",
       "</style>\n",
       "<table border=\"1\" class=\"dataframe\">\n",
       "  <thead>\n",
       "    <tr style=\"text-align: right;\">\n",
       "      <th></th>\n",
       "      <th>Dolar</th>\n",
       "      <th>Ibovespa</th>\n",
       "    </tr>\n",
       "    <tr>\n",
       "      <th>Date</th>\n",
       "      <th></th>\n",
       "      <th></th>\n",
       "    </tr>\n",
       "  </thead>\n",
       "  <tbody>\n",
       "    <tr>\n",
       "      <th>2022-09-21</th>\n",
       "      <td>5.1415</td>\n",
       "      <td>111936.0</td>\n",
       "    </tr>\n",
       "    <tr>\n",
       "      <th>2022-09-22</th>\n",
       "      <td>5.1704</td>\n",
       "      <td>114070.0</td>\n",
       "    </tr>\n",
       "    <tr>\n",
       "      <th>2022-09-23</th>\n",
       "      <td>5.1155</td>\n",
       "      <td>111716.0</td>\n",
       "    </tr>\n",
       "    <tr>\n",
       "      <th>2022-09-26</th>\n",
       "      <td>5.2588</td>\n",
       "      <td>109114.0</td>\n",
       "    </tr>\n",
       "    <tr>\n",
       "      <th>2022-09-27</th>\n",
       "      <td>5.3894</td>\n",
       "      <td>108376.0</td>\n",
       "    </tr>\n",
       "    <tr>\n",
       "      <th>...</th>\n",
       "      <td>...</td>\n",
       "      <td>...</td>\n",
       "    </tr>\n",
       "    <tr>\n",
       "      <th>2023-09-14</th>\n",
       "      <td>4.9154</td>\n",
       "      <td>119392.0</td>\n",
       "    </tr>\n",
       "    <tr>\n",
       "      <th>2023-09-15</th>\n",
       "      <td>4.8682</td>\n",
       "      <td>118758.0</td>\n",
       "    </tr>\n",
       "    <tr>\n",
       "      <th>2023-09-18</th>\n",
       "      <td>4.8670</td>\n",
       "      <td>118288.0</td>\n",
       "    </tr>\n",
       "    <tr>\n",
       "      <th>2023-09-19</th>\n",
       "      <td>4.8537</td>\n",
       "      <td>117846.0</td>\n",
       "    </tr>\n",
       "    <tr>\n",
       "      <th>2023-09-20</th>\n",
       "      <td>4.8658</td>\n",
       "      <td>118695.0</td>\n",
       "    </tr>\n",
       "  </tbody>\n",
       "</table>\n",
       "<p>250 rows × 2 columns</p>\n",
       "</div>"
      ],
      "text/plain": [
       "             Dolar  Ibovespa\n",
       "Date                        \n",
       "2022-09-21  5.1415  111936.0\n",
       "2022-09-22  5.1704  114070.0\n",
       "2022-09-23  5.1155  111716.0\n",
       "2022-09-26  5.2588  109114.0\n",
       "2022-09-27  5.3894  108376.0\n",
       "...            ...       ...\n",
       "2023-09-14  4.9154  119392.0\n",
       "2023-09-15  4.8682  118758.0\n",
       "2023-09-18  4.8670  118288.0\n",
       "2023-09-19  4.8537  117846.0\n",
       "2023-09-20  4.8658  118695.0\n",
       "\n",
       "[250 rows x 2 columns]"
      ]
     },
     "execution_count": 4,
     "metadata": {},
     "output_type": "execute_result"
    }
   ],
   "source": [
    "# Manipulando os dados excluindo colunas inexistentes e selecionar colunas desejadas\n",
    "\n",
    "dados_fechamento = dados_mercado['Adj Close']\n",
    "dados_fechamento.columns = ['Dolar', 'Ibovespa']\n",
    "\n",
    "dados_fechamento = dados_fechamento.dropna()\n",
    "\n",
    "dados_fechamento"
   ]
  },
  {
   "cell_type": "markdown",
   "metadata": {},
   "source": [
    "## 3.1 *Manipulando Criando tabelas*"
   ]
  },
  {
   "cell_type": "code",
   "execution_count": 6,
   "metadata": {},
   "outputs": [
    {
     "data": {
      "text/html": [
       "<div>\n",
       "<style scoped>\n",
       "    .dataframe tbody tr th:only-of-type {\n",
       "        vertical-align: middle;\n",
       "    }\n",
       "\n",
       "    .dataframe tbody tr th {\n",
       "        vertical-align: top;\n",
       "    }\n",
       "\n",
       "    .dataframe thead th {\n",
       "        text-align: right;\n",
       "    }\n",
       "</style>\n",
       "<table border=\"1\" class=\"dataframe\">\n",
       "  <thead>\n",
       "    <tr style=\"text-align: right;\">\n",
       "      <th></th>\n",
       "      <th>Dolar</th>\n",
       "      <th>Ibovespa</th>\n",
       "    </tr>\n",
       "    <tr>\n",
       "      <th>Date</th>\n",
       "      <th></th>\n",
       "      <th></th>\n",
       "    </tr>\n",
       "  </thead>\n",
       "  <tbody>\n",
       "    <tr>\n",
       "      <th>2022-12-31</th>\n",
       "      <td>5.2668</td>\n",
       "      <td>110031.0</td>\n",
       "    </tr>\n",
       "    <tr>\n",
       "      <th>2023-12-31</th>\n",
       "      <td>4.8658</td>\n",
       "      <td>118695.0</td>\n",
       "    </tr>\n",
       "  </tbody>\n",
       "</table>\n",
       "</div>"
      ],
      "text/plain": [
       "             Dolar  Ibovespa\n",
       "Date                        \n",
       "2022-12-31  5.2668  110031.0\n",
       "2023-12-31  4.8658  118695.0"
      ]
     },
     "execution_count": 6,
     "metadata": {},
     "output_type": "execute_result"
    }
   ],
   "source": [
    "# Criação de Tabelas Anuais de Fechamento\n",
    "\n",
    "dados_fechamento_anual = dados_fechamento.resample(\"Y\").last()\n",
    "\n",
    "dados_fechamento_anual"
   ]
  },
  {
   "cell_type": "code",
   "execution_count": 7,
   "metadata": {},
   "outputs": [
    {
     "data": {
      "text/html": [
       "<div>\n",
       "<style scoped>\n",
       "    .dataframe tbody tr th:only-of-type {\n",
       "        vertical-align: middle;\n",
       "    }\n",
       "\n",
       "    .dataframe tbody tr th {\n",
       "        vertical-align: top;\n",
       "    }\n",
       "\n",
       "    .dataframe thead th {\n",
       "        text-align: right;\n",
       "    }\n",
       "</style>\n",
       "<table border=\"1\" class=\"dataframe\">\n",
       "  <thead>\n",
       "    <tr style=\"text-align: right;\">\n",
       "      <th></th>\n",
       "      <th>selic</th>\n",
       "    </tr>\n",
       "    <tr>\n",
       "      <th>Date</th>\n",
       "      <th></th>\n",
       "    </tr>\n",
       "  </thead>\n",
       "  <tbody>\n",
       "    <tr>\n",
       "      <th>2021-12-31</th>\n",
       "      <td>9.25</td>\n",
       "    </tr>\n",
       "    <tr>\n",
       "      <th>2022-12-31</th>\n",
       "      <td>13.75</td>\n",
       "    </tr>\n",
       "    <tr>\n",
       "      <th>2023-12-31</th>\n",
       "      <td>12.75</td>\n",
       "    </tr>\n",
       "  </tbody>\n",
       "</table>\n",
       "</div>"
      ],
      "text/plain": [
       "            selic\n",
       "Date             \n",
       "2021-12-31   9.25\n",
       "2022-12-31  13.75\n",
       "2023-12-31  12.75"
      ]
     },
     "execution_count": 7,
     "metadata": {},
     "output_type": "execute_result"
    }
   ],
   "source": [
    "selic = sgs.get({'selic':432}, start = '2021-01-01').resample(\"Y\").last()\n",
    "\n",
    "selic"
   ]
  },
  {
   "cell_type": "markdown",
   "metadata": {},
   "source": [
    "## 4 *Calculando Fechamento Anual, Retorno no ano até o Momento.*"
   ]
  },
  {
   "cell_type": "code",
   "execution_count": 9,
   "metadata": {},
   "outputs": [
    {
     "data": {
      "text/html": [
       "<div>\n",
       "<style scoped>\n",
       "    .dataframe tbody tr th:only-of-type {\n",
       "        vertical-align: middle;\n",
       "    }\n",
       "\n",
       "    .dataframe tbody tr th {\n",
       "        vertical-align: top;\n",
       "    }\n",
       "\n",
       "    .dataframe thead th {\n",
       "        text-align: right;\n",
       "    }\n",
       "</style>\n",
       "<table border=\"1\" class=\"dataframe\">\n",
       "  <thead>\n",
       "    <tr style=\"text-align: right;\">\n",
       "      <th></th>\n",
       "      <th>Dolar</th>\n",
       "      <th>Ibovespa</th>\n",
       "    </tr>\n",
       "    <tr>\n",
       "      <th>Date</th>\n",
       "      <th></th>\n",
       "      <th></th>\n",
       "    </tr>\n",
       "  </thead>\n",
       "  <tbody>\n",
       "    <tr>\n",
       "      <th>2023-12-31</th>\n",
       "      <td>-0.076137</td>\n",
       "      <td>0.078741</td>\n",
       "    </tr>\n",
       "  </tbody>\n",
       "</table>\n",
       "</div>"
      ],
      "text/plain": [
       "               Dolar  Ibovespa\n",
       "Date                          \n",
       "2023-12-31 -0.076137  0.078741"
      ]
     },
     "execution_count": 9,
     "metadata": {},
     "output_type": "execute_result"
    }
   ],
   "source": [
    "# Criando variáveis para calcular retornos Anuais\n",
    "retorno_no_ano = dados_fechamento_anual.pct_change().dropna()\n",
    "\n",
    "retorno_no_ano"
   ]
  },
  {
   "cell_type": "code",
   "execution_count": 10,
   "metadata": {},
   "outputs": [
    {
     "data": {
      "text/html": [
       "<div>\n",
       "<style scoped>\n",
       "    .dataframe tbody tr th:only-of-type {\n",
       "        vertical-align: middle;\n",
       "    }\n",
       "\n",
       "    .dataframe tbody tr th {\n",
       "        vertical-align: top;\n",
       "    }\n",
       "\n",
       "    .dataframe thead th {\n",
       "        text-align: right;\n",
       "    }\n",
       "</style>\n",
       "<table border=\"1\" class=\"dataframe\">\n",
       "  <thead>\n",
       "    <tr style=\"text-align: right;\">\n",
       "      <th></th>\n",
       "      <th>selic</th>\n",
       "    </tr>\n",
       "    <tr>\n",
       "      <th>Date</th>\n",
       "      <th></th>\n",
       "    </tr>\n",
       "  </thead>\n",
       "  <tbody>\n",
       "    <tr>\n",
       "      <th>2022-12-31</th>\n",
       "      <td>0.486486</td>\n",
       "    </tr>\n",
       "    <tr>\n",
       "      <th>2023-12-31</th>\n",
       "      <td>-0.072727</td>\n",
       "    </tr>\n",
       "  </tbody>\n",
       "</table>\n",
       "</div>"
      ],
      "text/plain": [
       "               selic\n",
       "Date                \n",
       "2022-12-31  0.486486\n",
       "2023-12-31 -0.072727"
      ]
     },
     "execution_count": 10,
     "metadata": {},
     "output_type": "execute_result"
    }
   ],
   "source": [
    "selic = sgs.get({'selic':432}, start = '2021-01-01').resample(\"Y\").last().pct_change().dropna()\n",
    "\n",
    "selic"
   ]
  },
  {
   "cell_type": "markdown",
   "metadata": {},
   "source": [
    "## 5 *Localizar o Fechamento e Retorno baseado no Ano.*"
   ]
  },
  {
   "cell_type": "code",
   "execution_count": 11,
   "metadata": {},
   "outputs": [
    {
     "data": {
      "text/plain": [
       "Dolar      -0.076137\n",
       "Ibovespa    0.078741\n",
       "Name: 2023-12-31 00:00:00, dtype: float64"
      ]
     },
     "execution_count": 11,
     "metadata": {},
     "output_type": "execute_result"
    }
   ],
   "source": [
    "# loc > referencia elementos a partir do nome \n",
    "# iloc > referencia elementos como uma matriz\n",
    "retorno_no_ano.loc[\"2023-12-31\"]"
   ]
  },
  {
   "cell_type": "code",
   "execution_count": 12,
   "metadata": {},
   "outputs": [
    {
     "data": {
      "text/plain": [
       "selic   -0.072727\n",
       "Name: 2023-12-31 00:00:00, dtype: float64"
      ]
     },
     "execution_count": 12,
     "metadata": {},
     "output_type": "execute_result"
    }
   ],
   "source": [
    "selic = sgs.get({'selic':432}, start = '2021-01-01').resample(\"Y\").last().pct_change().dropna().loc[\"2023-12-31\"]\n",
    "\n",
    "selic"
   ]
  },
  {
   "cell_type": "code",
   "execution_count": 13,
   "metadata": {},
   "outputs": [
    {
     "data": {
      "text/plain": [
       "-0.07613731838396132"
      ]
     },
     "execution_count": 13,
     "metadata": {},
     "output_type": "execute_result"
    }
   ],
   "source": [
    "retorno_ano_dolar = retorno_no_ano.iloc[-1, 0]\n",
    "retorno_ano_ibovespa = retorno_no_ano.iloc[-1, 1]\n",
    "\n",
    "retorno_ano_dolar"
   ]
  },
  {
   "cell_type": "code",
   "execution_count": 14,
   "metadata": {},
   "outputs": [
    {
     "data": {
      "text/plain": [
       "7.87"
      ]
     },
     "execution_count": 14,
     "metadata": {},
     "output_type": "execute_result"
    }
   ],
   "source": [
    "retorno_ano_dolar = round(retorno_ano_dolar * 100, 2)\n",
    "retorno_ano_ibovespa = round(retorno_ano_ibovespa * 100, 2)\n",
    "\n",
    "retorno_ano_ibovespa"
   ]
  },
  {
   "cell_type": "code",
   "execution_count": 16,
   "metadata": {},
   "outputs": [
    {
     "data": {
      "text/plain": [
       "-7.27"
      ]
     },
     "execution_count": 16,
     "metadata": {},
     "output_type": "execute_result"
    }
   ],
   "source": [
    "selic = round(-0.072727 * 100, 2)\n",
    "\n",
    "selic\n"
   ]
  },
  {
   "cell_type": "markdown",
   "metadata": {},
   "source": [
    "## 6 *Fazendo Gráficos e Performance dos Ativos.*"
   ]
  },
  {
   "cell_type": "code",
   "execution_count": 17,
   "metadata": {},
   "outputs": [
    {
     "data": {
      "image/png": "[encoded data removed]",
      "text/plain": [
       "<Figure size 640x480 with 1 Axes>"
      ]
     },
     "metadata": {},
     "output_type": "display_data"
    }
   ],
   "source": [
    "# Criação dos Gráficos para melhor Visualização\n",
    "plt.style.use(\"cyberpunk\")\n",
    "\n",
    "dados_fechamento.plot(y = 'Ibovespa', use_index = True, legend = False)\n",
    "\n",
    "plt.title(\"Ibovespa\")\n",
    "\n",
    "plt.savefig('Ibovespa.png', dpi = 300)\n",
    "\n",
    "plt.show()"
   ]
  },
  {
   "cell_type": "code",
   "execution_count": 18,
   "metadata": {},
   "outputs": [
    {
     "data": {
      "image/png": "[encoded data removed]",
      "text/plain": [
       "<Figure size 640x480 with 1 Axes>"
      ]
     },
     "metadata": {},
     "output_type": "display_data"
    }
   ],
   "source": [
    "plt.style.use(\"cyberpunk\")\n",
    "\n",
    "dados_fechamento.plot(y = 'Dolar', use_index = True, legend = False)\n",
    "\n",
    "plt.title(\"Dolar\")\n",
    "\n",
    "plt.savefig('Dolar.png', dpi = 300)\n",
    "\n",
    "plt.show()"
   ]
  },
  {
   "cell_type": "code",
   "execution_count": null,
   "metadata": {},
   "outputs": [],
   "source": [
    "selic = sgs.get({'selic':432}, start = '2021-01-01')\n",
    "\n",
    "selic"
   ]
  },
  {
   "cell_type": "code",
   "execution_count": 20,
   "metadata": {},
   "outputs": [
    {
     "data": {
      "image/png": "[encoded data removed]",
      "text/plain": [
       "<Figure size 640x480 with 1 Axes>"
      ]
     },
     "metadata": {},
     "output_type": "display_data"
    }
   ],
   "source": [
    "fig, ax = plt.subplots()\n",
    "\n",
    "plt.style.use(\"cyberpunk\")\n",
    "\n",
    "ax.plot(selic.index, selic['selic'])\n",
    "ax.yaxis.set_major_formatter(mtick.PercentFormatter())\n",
    "ax.grid(False)\n",
    "\n",
    "plt.savefig('selic.png', dpi = 300)\n",
    "\n",
    "plt.show()"
   ]
  },
  {
   "cell_type": "markdown",
   "metadata": {},
   "source": [
    "## 7 *Automatizando o Envio do Relatório*"
   ]
  },
  {
   "cell_type": "code",
   "execution_count": null,
   "metadata": {},
   "outputs": [],
   "source": [
    "# Automatizando o Envio dos Dados para o Gestor\n",
    "import os\n",
    "from dotenv import load_dotenv"
   ]
  },
  {
   "cell_type": "code",
   "execution_count": null,
   "metadata": {},
   "outputs": [],
   "source": [
    "load_dotenv()"
   ]
  },
  {
   "cell_type": "code",
   "execution_count": null,
   "metadata": {},
   "outputs": [],
   "source": [
    "senha = os.environ.get(\"senha_email\")\n",
    "email = 'seu_E-mail'"
   ]
  },
  {
   "cell_type": "code",
   "execution_count": null,
   "metadata": {},
   "outputs": [],
   "source": [
    "msg = EmailMessage()\n",
    "msg['Subject'] = \"Enviando e-mail com o Python\"\n",
    "msg['from'] = 'seu_Email'\n",
    "msg['to'] = 'email_gestor'\n",
    "\n",
    "msg.set_content(f'''Prezado Gestor, segue o relatório diário:\n",
    "\n",
    "\n",
    "Bolsa: \n",
    "\n",
    "No Ano o Ibovespa está tendo até o momento uma rentabilidade de {retorno_ano_ibovespa}%,\n",
    "\n",
    "Dólar:\n",
    "\n",
    "No Ano o Dolar está tendo uma rentabilidade de {retorno_ano_dolar}%,\n",
    "\n",
    "Selic:\n",
    "\n",
    "No Ano a Selic está tendo uma rentabilidade de {selic}%\n",
    "\n",
    "Insight\n",
    "\n",
    "Com Base nos Dados levantados o ativo que vem se Performando positivamente é o Ibovespa,\n",
    "levando em consideração a possivel queda dos juros, após decisão e projeções do Banco central,\n",
    "ou seja Ativos ou fundos de renda variável podem ser uma boa escolha.\n",
    "\n",
    "Abs,\n",
    "\n",
    "''')\n",
    "\n",
    "\n",
    "                                                    "
   ]
  },
  {
   "cell_type": "code",
   "execution_count": null,
   "metadata": {},
   "outputs": [],
   "source": [
    "with open('Ibovespa.png' 'rb') as content_file:\n",
    "    content = content_file.read()\n",
    "    msg.add_attachment(content, maintype='application', subtype='png', filename='Ibovespa.png')\n",
    "\n",
    "with open('Dolar.png' 'rb') as content_file:\n",
    "    content = content_file.read()\n",
    "    msg.add_attachment(content, maintype='application', subtype='png', filename='Dolar.png')\n",
    "\n",
    "with open('selic.png' 'rb') as content_file:\n",
    "    content = content_file.read()\n",
    "    msg.add_attachment(content, maintype='application', subtype='png', filename='selic.png')\n",
    "\n"
   ]
  },
  {
   "cell_type": "code",
   "execution_count": null,
   "metadata": {},
   "outputs": [],
   "source": [
    "with smtplib.SMTP_SSL('smtp.gmail.com', 465) as smtp:\n",
    "\n",
    "    smtp.login(email, senha)\n",
    "    smtp.send_message(msg)"
   ]
  }
 ],
 "metadata": {
  "kernelspec": {
   "display_name": "Python 3",
   "language": "python",
   "name": "python3"
  },
  "language_info": {
   "codemirror_mode": {
    "name": "ipython",
    "version": 3
   },
   "file_extension": ".py",
   "mimetype": "text/x-python",
   "name": "python",
   "nbconvert_exporter": "python",
   "pygments_lexer": "ipython3",
   "version": "3.11.1"
  },
  "orig_nbformat": 4
 },
 "nbformat": 4,
 "nbformat_minor": 2
}
